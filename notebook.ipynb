{
  "nbformat": 4,
  "nbformat_minor": 0,
  "metadata": {
    "colab": {
      "provenance": []
    },
    "kernelspec": {
      "name": "python3",
      "display_name": "Python 3"
    },
    "language_info": {
      "name": "python"
    }
  },
  "cells": [
    {
      "cell_type": "code",
      "execution_count": 2,
      "metadata": {
        "id": "lDwor9itaWbL",
        "colab": {
          "base_uri": "https://localhost:8080/"
        },
        "outputId": "f6387428-6b2e-449f-c0f1-5d57c8d5aee5"
      },
      "outputs": [
        {
          "output_type": "stream",
          "name": "stdout",
          "text": [
            "Requirement already satisfied: scikit-learn in /usr/local/lib/python3.10/dist-packages (1.5.2)\n",
            "Requirement already satisfied: numpy>=1.19.5 in /usr/local/lib/python3.10/dist-packages (from scikit-learn) (1.26.4)\n",
            "Requirement already satisfied: scipy>=1.6.0 in /usr/local/lib/python3.10/dist-packages (from scikit-learn) (1.13.1)\n",
            "Requirement already satisfied: joblib>=1.2.0 in /usr/local/lib/python3.10/dist-packages (from scikit-learn) (1.4.2)\n",
            "Requirement already satisfied: threadpoolctl>=3.1.0 in /usr/local/lib/python3.10/dist-packages (from scikit-learn) (3.5.0)\n",
            "Requirement already satisfied: nltk in /usr/local/lib/python3.10/dist-packages (3.8.1)\n",
            "Requirement already satisfied: click in /usr/local/lib/python3.10/dist-packages (from nltk) (8.1.7)\n",
            "Requirement already satisfied: joblib in /usr/local/lib/python3.10/dist-packages (from nltk) (1.4.2)\n",
            "Requirement already satisfied: regex>=2021.8.3 in /usr/local/lib/python3.10/dist-packages (from nltk) (2024.9.11)\n",
            "Requirement already satisfied: tqdm in /usr/local/lib/python3.10/dist-packages (from nltk) (4.66.5)\n"
          ]
        },
        {
          "output_type": "stream",
          "name": "stderr",
          "text": [
            "[nltk_data] Downloading package stopwords to /root/nltk_data...\n",
            "[nltk_data]   Unzipping corpora/stopwords.zip.\n"
          ]
        },
        {
          "output_type": "execute_result",
          "data": {
            "text/plain": [
              "True"
            ]
          },
          "metadata": {},
          "execution_count": 2
        }
      ],
      "source": [
        "# Pastikan untuk menjalankan kode ini di Google Colab\n",
        "\n",
        "# 1. Persiapan Lingkungan\n",
        "!pip install -U scikit-learn\n",
        "!pip install nltk\n",
        "\n",
        "import os\n",
        "import numpy as np\n",
        "import pandas as pd\n",
        "from sklearn.feature_extraction.text import TfidfVectorizer\n",
        "from sklearn.metrics.pairwise import cosine_similarity\n",
        "import nltk\n",
        "from nltk.corpus import stopwords\n",
        "nltk.download('stopwords')"
      ]
    },
    {
      "cell_type": "code",
      "source": [
        "# 2. Memuat dan Mempersiapkan Data\n",
        "# Misalkan Anda memiliki 40 dokumen Al-Qur'an dalam format teks, tersimpan di folder 'quran_docs'\n",
        "# Pastikan untuk meng-upload folder 'quran_docs' ke Google Colab atau gunakan Google Drive\n",
        "\n",
        "# Jika menggunakan Google Drive:\n",
        "from google.colab import drive\n",
        "drive.mount('/content/drive')"
      ],
      "metadata": {
        "id": "GH06ztn1vkJo",
        "colab": {
          "base_uri": "https://localhost:8080/"
        },
        "outputId": "07eb47bc-9d63-4350-b945-d53525fc7c01"
      },
      "execution_count": 3,
      "outputs": [
        {
          "output_type": "stream",
          "name": "stdout",
          "text": [
            "Mounted at /content/drive\n"
          ]
        }
      ]
    },
    {
      "cell_type": "code",
      "source": [
        "# Path ke folder dokumen\n",
        "docs_path = '/content/drive/MyDrive/dataset/hadits'  # Ganti sesuai path Anda\n",
        "\n",
        "# Membaca dokumen\n",
        "documents = []\n",
        "doc_names = []\n",
        "for filename in os.listdir(docs_path):\n",
        "    if filename.endswith('.txt'):\n",
        "        with open(os.path.join(docs_path, filename), 'r', encoding='utf-8') as file:\n",
        "            documents.append(file.read())\n",
        "            doc_names.append(filename)\n",
        "\n",
        "print(f\"Jumlah dokumen yang dimuat: {len(documents)}\")"
      ],
      "metadata": {
        "colab": {
          "base_uri": "https://localhost:8080/"
        },
        "id": "3YYmCkzd32IL",
        "outputId": "7cb3e3d6-8f8f-48d4-e9fb-f509f28a30da"
      },
      "execution_count": 4,
      "outputs": [
        {
          "output_type": "stream",
          "name": "stdout",
          "text": [
            "Jumlah dokumen yang dimuat: 40\n"
          ]
        }
      ]
    },
    {
      "cell_type": "code",
      "source": [
        "# 3. Membuat Representasi Vektor dengan TF-IDF\n",
        "# Gunakan stopwords dari NLTK\n",
        "stop_words = stopwords.words('indonesian')\n",
        "\n",
        "# Buat vectorizer dengan stopwords Indonesia\n",
        "vectorizer = TfidfVectorizer(stop_words=stop_words, max_features=5000)\n",
        "\n",
        "# Transformasi dokumen menjadi matriks TF-IDF\n",
        "tfidf_matrix = vectorizer.fit_transform(documents)\n",
        "\n",
        "# Cetak bentuk matriks TF-IDF\n",
        "print(\"TF-IDF matrix shape:\", tfidf_matrix.shape)"
      ],
      "metadata": {
        "id": "Q-zrJ5ChvkMP",
        "colab": {
          "base_uri": "https://localhost:8080/"
        },
        "outputId": "f2f8d302-8570-498b-d934-2f8e61dd6e40"
      },
      "execution_count": 5,
      "outputs": [
        {
          "output_type": "stream",
          "name": "stdout",
          "text": [
            "TF-IDF matrix shape: (40, 237)\n"
          ]
        },
        {
          "output_type": "stream",
          "name": "stderr",
          "text": [
            "/usr/local/lib/python3.10/dist-packages/sklearn/feature_extraction/text.py:406: UserWarning: Your stop_words may be inconsistent with your preprocessing. Tokenizing the stop words generated tokens ['baiknya', 'berkali', 'kali', 'kurangnya', 'mata', 'olah', 'sekurang', 'setidak', 'tama', 'tidaknya'] not in stop_words.\n",
            "  warnings.warn(\n"
          ]
        }
      ]
    },
    {
      "cell_type": "code",
      "source": [
        "# 4. Implementasi Cosine Similarity untuk Pencarian\n",
        "def search_quran(query, top_n=5):\n",
        "    query_vec = vectorizer.transform([query])\n",
        "    similarities = cosine_similarity(query_vec, tfidf_matrix).flatten()\n",
        "    top_indices = similarities.argsort()[-top_n:][::-1]\n",
        "    results = []\n",
        "    for idx in top_indices:\n",
        "        results.append({\n",
        "            'Dokumen': doc_names[idx],\n",
        "            'Similarity Score': similarities[idx],\n",
        "            'Isi Dokumen': documents[idx][:500] + '...'  # Menampilkan 500 karakter pertama\n",
        "        })\n",
        "    return results"
      ],
      "metadata": {
        "id": "tQqHjr0uvkOz"
      },
      "execution_count": 6,
      "outputs": []
    },
    {
      "cell_type": "code",
      "source": [
        "# 5. Interface Sederhana untuk Question Answering\n",
        "# Anda dapat menggunakan input manual di Colab untuk pengujian\n",
        "\n",
        "from IPython.display import display, HTML\n",
        "\n",
        "def interactive_search():\n",
        "    while True:\n",
        "        query = input(\"Masukkan pertanyaan Anda (atau ketik 'exit' untuk keluar): \")\n",
        "        if query.lower() == 'exit':\n",
        "            break\n",
        "        results = search_quran(query)\n",
        "        for i, res in enumerate(results, 1):\n",
        "            print(f\"\\nHasil {i}:\")\n",
        "            print(f\"Dokumen: {res['Dokumen']}\")\n",
        "            print(f\"Similarity Score: {res['Similarity Score']:.4f}\")\n",
        "            print(f\"Isi Dokumen: {res['Isi Dokumen']}\\n\")\n",
        "\n",
        "# Uncomment untuk menjalankan pencarian interaktif\n",
        "# interactive_search()\n",
        "\n",
        "# Contoh penggunaan\n",
        "query = \"Apa itu zakat?\"\n",
        "results = search_quran(query)\n",
        "for i, res in enumerate(results, 1):\n",
        "    print(f\"\\nHasil {i}:\")\n",
        "    print(f\"Dokumen: {res['Dokumen']}\")\n",
        "    print(f\"Similarity Score: {res['Similarity Score']:.4f}\")\n",
        "    print(f\"Isi Dokumen: {res['Isi Dokumen']}\\n\")"
      ],
      "metadata": {
        "id": "3CPAF3s4vkRQ",
        "colab": {
          "base_uri": "https://localhost:8080/"
        },
        "outputId": "a7a04c27-11ba-4463-bcaf-d55833549e8b"
      },
      "execution_count": 7,
      "outputs": [
        {
          "output_type": "stream",
          "name": "stdout",
          "text": [
            "\n",
            "Hasil 1:\n",
            "Dokumen: hadits silaturahmi dengan orang tua dan saudara.txt\n",
            "Similarity Score: 0.2974\n",
            "Isi Dokumen: Beribadahlah pada Allah SWT dengan sempurna jangan syirik, dirikanlah sholat, tunaikan zakat, dan jalinlah silaturahmi dengan orangtua dan saudara....\n",
            "\n",
            "\n",
            "Hasil 2:\n",
            "Dokumen: hadits orang meninggal dunia.txt\n",
            "Similarity Score: 0.0000\n",
            "Isi Dokumen: Dari Abu Hurairah RA, Rasulullah bersabda, Jika ada orang yang meninggal dunia, maka malaikat berkata apa yang telah lalu amal, sedangkan manusia membicarakan apa yang ia tinggalkan warisan....\n",
            "\n",
            "\n",
            "Hasil 3:\n",
            "Dokumen: hadits adab meminta izin masuk ke rumah orang lain.txt\n",
            "Similarity Score: 0.0000\n",
            "Isi Dokumen: Suatu hari datang seorang dari Bani Amir ke rumah Rasulullah dan meminta izin untuk memasuki rumah beliau. Maka, Rasulullah berkata kepada pembantunya, 'Keluarlah kamu dan ajarkan laki-laki itu adab meminta izin, katakanlah padanya untuk mengucapkan, Assalamualaikum, bolehkah aku masuk....\n",
            "\n",
            "\n",
            "Hasil 4:\n",
            "Dokumen: hadits mengucapkan doa sebelum masuk rumah.txt\n",
            "Similarity Score: 0.0000\n",
            "Isi Dokumen: Dengan menyebut Nama Allah kami masuk, dan dengan menyebut Nama Allah kami keluar dan hanya kepada Rabb kami bertawakal....\n",
            "\n",
            "\n",
            "Hasil 5:\n",
            "Dokumen: hadits izin mengucapkan salam sebelum masuk rumah.txt\n",
            "Similarity Score: 0.0000\n",
            "Isi Dokumen: Tidak boleh diberi izin hingga dia bersalam....\n",
            "\n"
          ]
        }
      ]
    },
    {
      "cell_type": "code",
      "source": [
        "# Contoh penggunaan 2\n",
        "query = \"mengucapkan salam\"\n",
        "results = search_quran(query)\n",
        "for i, res in enumerate(results, 1):\n",
        "    print(f\"\\nHasil {i}:\")\n",
        "    print(f\"Dokumen: {res['Dokumen']}\")\n",
        "    print(f\"Similarity Score: {res['Similarity Score']:.4f}\")\n",
        "    print(f\"Isi Dokumen: {res['Isi Dokumen']}\\n\")"
      ],
      "metadata": {
        "colab": {
          "base_uri": "https://localhost:8080/"
        },
        "id": "1LWfzc9E66-n",
        "outputId": "f0e98959-1546-49a8-c4ae-8411ae30d12f"
      },
      "execution_count": 10,
      "outputs": [
        {
          "output_type": "stream",
          "name": "stdout",
          "text": [
            "\n",
            "Hasil 1:\n",
            "Dokumen: hadits keutamaan orang yang mengucap salam.txt\n",
            "Similarity Score: 0.4443\n",
            "Isi Dokumen: Sesungguhnya orang yang paling utama di sisi Allah adalah mereka yang memulai salam....\n",
            "\n",
            "\n",
            "Hasil 2:\n",
            "Dokumen: hadits keutamaan bertutur kata yang baik 2.txt\n",
            "Similarity Score: 0.2667\n",
            "Isi Dokumen: Dari Abu Syuraih, ia berkata pada Rasulullah, 'Wahai Rasulullah, tunjukkanlah padaku suatu amalan yang dapat memasukkanku ke dalam surga. Beliau bersabda, Di antara sebab mendapatkan ampunan Allah adalah menyebarkan salam dan bertutur kata yang baik....\n",
            "\n",
            "\n",
            "Hasil 3:\n",
            "Dokumen: hadits meminta izin masuk ke rumah orang lain.txt\n",
            "Similarity Score: 0.0000\n",
            "Isi Dokumen: Dari Abu Musa al-Asy'ary RA, ia berkata bahwa Rasulullah SAW bersabda, Mintalah izin tiga kali. Jika diizinkan maka itu hakmu, jika tidak maka kembali lah....\n",
            "\n",
            "\n",
            "Hasil 4:\n",
            "Dokumen: hadits mengucapkan doa sebelum masuk rumah.txt\n",
            "Similarity Score: 0.0000\n",
            "Isi Dokumen: Dengan menyebut Nama Allah kami masuk, dan dengan menyebut Nama Allah kami keluar dan hanya kepada Rabb kami bertawakal....\n",
            "\n",
            "\n",
            "Hasil 5:\n",
            "Dokumen: hadits izin mengucapkan salam sebelum masuk rumah.txt\n",
            "Similarity Score: 0.0000\n",
            "Isi Dokumen: Tidak boleh diberi izin hingga dia bersalam....\n",
            "\n"
          ]
        }
      ]
    }
  ]
}